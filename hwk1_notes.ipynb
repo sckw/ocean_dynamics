{
 "cells": [
  {
   "cell_type": "markdown",
   "metadata": {},
   "source": [
    "# Make a new binary file"
   ]
  },
  {
   "cell_type": "markdown",
   "metadata": {},
   "source": [
    "In the notebook, I created a new binary file, with the following snippet:"
   ]
  },
  {
   "cell_type": "code",
   "metadata": {},
   "source": [
    "# read ORIGINAL zonal wind stress data\n",
    "taux_data = np.fromfile(f'{rundir}/windx_cosy.bin', dtype='>f4')\n",
    "\n",
    "# I rearranged the equation for tau_x and subbed in 0.2/1e3 - except, you don't need to do this rearrangement,\n",
    "# you can just do dbl_taux_data = taux_data * 2 :P I felt silly realising this afterwards...\n",
    "cos_y = -taux_data / τ0\n",
    "τ1 = 0.2/1e3\n",
    "dbl_taux_data = -τ1 * cos_y\n",
    "\n",
    "# this writes the new wind stress to a binary file (named: windx_cosy_double.bin)\n",
    "dbl_taux_data.astype('>f4').tofile(f'{rundir}/windx_cosy_double.bin')\n",
    "\n",
    "# I plotted it to make sure that my new wind stress makes sense\n",
    "dbl_taux_data.shape = ds.rA.shape\n",
    "ds['dbl_taux'] = ('YC', 'XG'), dbl_taux_data\n",
    "ds.dbl_taux.plot()"
   ]
  },
  {
   "cell_type": "markdown",
   "metadata": {},
   "source": [
    "#### Next step: go to your habanero directory (tutorial_barotropic_gyre/)\n",
    "\n",
    "> Go to your inputs/data file (nano OR vim data) and scroll down, to find the \"input datasets\" section\n",
    "\n",
    "> From here, you should see the original windx_cosy.bin file, change this to be the new file you created\n",
    "\n",
    "> Return to /tutorial_barotropic_gyre and make a second run folder\n",
    "   \n",
    "    mkdir run2\n",
    "\n",
    "    cd run2\n",
    "\n",
    "    ln -s ../build/mitgcmuv .\n",
    "\n",
    "    ln -s ../input/* .\n",
    "\n",
    "> Remember, to make sure the binary file you created is in **run 2**, you can use\n",
    "\n",
    "    cp <binary_file> /rigel/ocp/...etc./run2\n",
    "\n",
    "> Don't forget to do srun ... and module load ... lines ( see Ryan's hackmd.io)\n",
    "\n",
    "> Now you're ready to run your model in the run2 directory\n",
    "\n",
    "    mpirun -np 4 ./mitgcmuv"
   ]
  },
  {
   "cell_type": "code",
   "metadata": {},
   "source": [
    "rundir2 ='/rigel/ocp/users/scw2148/tutorial_barotropic_gyre/run2'\n",
    "# I copied the binary file I made above to run2 in tutorial_barotropic_gyre, so that I don't lose the model outputs from earlier\n",
    "\n",
    "timesteps = 72*np.arange(1,201)\n",
    "\n",
    "ds2 = xmitgcm.open_mdsdataset(rundir2, iters=timesteps,\n",
    "                             delta_t=1200, calendar='360_day',\n",
    "                             ref_date='0000-01-01 00:00:00')\n",
    "ds2;"
   ]
  }
 ],
 "metadata": {
  "kernelspec": {
   "display_name": "Python 3",
   "language": "python",
   "name": "python3"
  },
  "language_info": {
   "codemirror_mode": {
    "name": "ipython",
    "version": 3
   },
   "file_extension": ".py",
   "mimetype": "text/x-python",
   "name": "python",
   "nbconvert_exporter": "python",
   "pygments_lexer": "ipython3",
   "version": "3.6.10"
  }
 },
 "nbformat": 4,
 "nbformat_minor": 4
}
